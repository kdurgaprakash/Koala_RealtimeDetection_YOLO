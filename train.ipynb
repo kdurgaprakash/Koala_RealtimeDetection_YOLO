{
 "cells": [
  {
   "cell_type": "code",
   "execution_count": null,
   "metadata": {},
   "outputs": [],
   "source": [
    "#compatibility with Google Colab\n",
    "\n",
    "#Mount drive and load dataset folder\n",
    "#Replace actual location within <> tags\n",
    "from google.colab import drive\n",
    "drive.mount('<drive location>')"
   ]
  },
  {
   "cell_type": "code",
   "execution_count": null,
   "metadata": {},
   "outputs": [],
   "source": [
    "#Clone darknet repository\n",
    "!git clone \"https://github.com/AlexeyAB/darknet.git\""
   ]
  },
  {
   "cell_type": "code",
   "execution_count": null,
   "metadata": {},
   "outputs": [],
   "source": [
    "#Move to cloned darknet repository\n",
    "%cd <'darknet location'>"
   ]
  },
  {
   "cell_type": "code",
   "execution_count": null,
   "metadata": {},
   "outputs": [],
   "source": [
    "#compile darknet and create makefile\n",
    "!make"
   ]
  },
  {
   "cell_type": "markdown",
   "metadata": {},
   "source": [
    "#Update makefile to use colab GPU"
   ]
  },
  {
   "cell_type": "code",
   "execution_count": null,
   "metadata": {},
   "outputs": [],
   "source": [
    "#Train the model using darknet \n",
    "#Replace the tags with actual location\n",
    "!darknet/darknet detector train <'location of data_location.data'> <'cfg file location'> <'pretrained weights location'> -dont_show"
   ]
  }
 ],
 "metadata": {
  "language_info": {
   "name": "python"
  },
  "orig_nbformat": 4
 },
 "nbformat": 4,
 "nbformat_minor": 2
}
